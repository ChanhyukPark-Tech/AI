{
 "cells": [
  {
   "cell_type": "code",
   "execution_count": 14,
   "metadata": {},
   "outputs": [
    {
     "name": "stdout",
     "output_type": "stream",
     "text": [
      "Index(['crim', 'zn', 'indus', 'chas', 'nox', 'rm', 'age', 'dis', 'rad', 'tax',\n",
      "       'ptratio', 'b', 'lstat', 'medv'],\n",
      "      dtype='object')\n",
      "(506, 13) (506, 1)\n"
     ]
    },
    {
     "data": {
      "text/plain": [
       "<tensorflow.python.keras.callbacks.History at 0x140ffac38b0>"
      ]
     },
     "execution_count": 14,
     "metadata": {},
     "output_type": "execute_result"
    }
   ],
   "source": [
    "#라이브러리 사용\n",
    "import tensorflow as tf\n",
    "import pandas as pd\n",
    "\n",
    "# 1. 과거의 데이터를 준비합니다.\n",
    "파일경로 = 'C:/Users/woner/Desktop/coding/machine_learning/(me)life_coding_Tensorflow101/csv/boston.csv'\n",
    "boston = pd.read_csv(파일경로)\n",
    "print(boston.columns)  # 뭐 있는지 확인하는법 shape만 보려면 .shape 사용가능\n",
    "\n",
    "# 종속변수 ,독립변수\n",
    "\n",
    "독립 = boston[['crim', 'zn', 'indus', 'chas', 'nox', 'rm', 'age', 'dis', 'rad', 'tax',\n",
    "       'ptratio', 'b', 'lstat']]\n",
    "종속 = boston[['medv']]\n",
    "print(독립.shape, 종속.shape)  #  check it is proper variable \n",
    "\n",
    "# make model structure\n",
    "\n",
    "X= tf.keras.layers.Input(shape=[13]) # count independent variable \n",
    "Y = tf.keras.layers.Dense(1)(X)      # dependent variable\n",
    "model = tf.keras.models.Model(X, Y)  # model\n",
    "model.compile(loss='mse')            \n",
    "\n",
    "# 3 teach model with data using fit\n",
    "model.fit(독립, 종속,epochs=1000, verbose = 0) # verbose remember\n",
    "\n",
    "\n",
    "\n",
    "\n",
    "\n",
    "\n"
   ]
  },
  {
   "cell_type": "code",
   "execution_count": 15,
   "metadata": {},
   "outputs": [
    {
     "name": "stdout",
     "output_type": "stream",
     "text": [
      "How much is house ! in Boson !  [[29.207445]\n",
      " [24.637875]\n",
      " [30.164598]\n",
      " [29.548567]\n",
      " [28.877892]]\n"
     ]
    }
   ],
   "source": [
    "# final : using model \n",
    "print(\"How much is house ! in Boson ! \", model.predict(독립[0:5]))"
   ]
  },
  {
   "cell_type": "code",
   "execution_count": 16,
   "metadata": {},
   "outputs": [
    {
     "name": "stdout",
     "output_type": "stream",
     "text": [
      "   medv\n",
      "0  24.0\n",
      "1  21.6\n",
      "2  34.7\n",
      "3  33.4\n",
      "4  36.2\n"
     ]
    }
   ],
   "source": [
    "#compare with answer\n",
    "print(종속[0:5])"
   ]
  },
  {
   "cell_type": "code",
   "execution_count": 17,
   "metadata": {},
   "outputs": [
    {
     "data": {
      "text/plain": [
       "[array([[-0.08611017],\n",
       "        [ 0.07479428],\n",
       "        [-0.05829509],\n",
       "        [ 3.3889225 ],\n",
       "        [ 2.062125  ],\n",
       "        [ 3.7723155 ],\n",
       "        [ 0.01935458],\n",
       "        [-0.8427    ],\n",
       "        [ 0.14703923],\n",
       "        [-0.00939197],\n",
       "        [ 0.03434951],\n",
       "        [ 0.01611702],\n",
       "        [-0.59780484]], dtype=float32),\n",
       " array([2.9563425], dtype=float32)]"
      ]
     },
     "execution_count": 17,
     "metadata": {},
     "output_type": "execute_result"
    }
   ],
   "source": [
    "#check our model's formula\n",
    "model.get_weights()"
   ]
  },
  {
   "cell_type": "code",
   "execution_count": null,
   "metadata": {},
   "outputs": [],
   "source": []
  }
 ],
 "metadata": {
  "kernelspec": {
   "display_name": "Python 3",
   "language": "python",
   "name": "python3"
  },
  "language_info": {
   "codemirror_mode": {
    "name": "ipython",
    "version": 3
   },
   "file_extension": ".py",
   "mimetype": "text/x-python",
   "name": "python",
   "nbconvert_exporter": "python",
   "pygments_lexer": "ipython3",
   "version": "3.8.5"
  }
 },
 "nbformat": 4,
 "nbformat_minor": 4
}
