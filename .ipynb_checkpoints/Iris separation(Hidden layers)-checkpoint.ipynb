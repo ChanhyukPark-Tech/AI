{
 "cells": [
  {
   "cell_type": "markdown",
   "metadata": {},
   "source": [
    "### Using Hidden Layer to decrease loss for our iris separation\n"
   ]
  },
  {
   "cell_type": "code",
   "execution_count": 15,
   "metadata": {},
   "outputs": [
    {
     "name": "stdout",
     "output_type": "stream",
     "text": [
      "Index(['꽃잎길이', '꽃잎폭', '꽃받침길이', '꽃받침폭', '품종_setosa', '품종_versicolor',\n",
      "       '품종_virginica'],\n",
      "      dtype='object')\n",
      "[[9.9998796e-01 1.1347693e-05 7.0092455e-07]\n",
      " [9.9991560e-01 8.1384627e-05 2.9700575e-06]\n",
      " [9.9997461e-01 2.3586630e-05 1.8114538e-06]\n",
      " [9.9991381e-01 8.1604659e-05 4.5844545e-06]\n",
      " [9.9999142e-01 7.9299671e-06 6.4713652e-07]]\n",
      "   품종_setosa  품종_versicolor  품종_virginica\n",
      "0          1              0             0\n",
      "1          1              0             0\n",
      "2          1              0             0\n",
      "3          1              0             0\n",
      "4          1              0             0\n"
     ]
    }
   ],
   "source": [
    "import tensorflow as tf\n",
    "import pandas as pd\n",
    "\n",
    "# data prepare\n",
    "\n",
    "location = 'C:/Users/woner/Desktop/coding/machine_learning/(me)life_coding_Tensorflow101/csv/iris.csv'\n",
    "iris = pd.read_csv(location)\n",
    "\n",
    "# One hot encoding because classification\n",
    "iris = pd.get_dummies(iris)\n",
    "print(iris.columns)\n",
    "# variable\n",
    "independent = iris[['꽃잎길이', '꽃잎폭', '꽃받침길이', '꽃받침폭']]\n",
    "dependent = iris[['품종_setosa', '품종_versicolor',\n",
    "       '품종_virginica']]\n",
    "\n",
    "# model structure with hidden layer\n",
    "X = tf.keras.layers.Input(shape=[4])\n",
    "H = tf.keras.layers.Dense(8, activation = 'swish')(X)\n",
    "H = tf.keras.layers.Dense(8, activation = 'swish')(H)\n",
    "H = tf.keras.layers.Dense(8, activation = 'swish')(H)\n",
    "H = tf.keras.layers.Dense(8, activation = 'swish')(H)\n",
    "Y = tf.keras.layers.Dense(3, activation = 'softmax')(H)\n",
    "model = tf.keras.models.Model(X,Y)\n",
    "model.compile(loss='categorical_crossentropy', metrics = 'accuracy')\n",
    "\n",
    "# Fit\n",
    "\n",
    "model.fit(independent,dependent,epochs=100,verbose=0)\n",
    "\n",
    "# Test\n",
    "\n",
    "print(model.predict(independent[0:5]))\n",
    "print(dependent[0:5])"
   ]
  },
  {
   "cell_type": "code",
   "execution_count": null,
   "metadata": {},
   "outputs": [],
   "source": []
  }
 ],
 "metadata": {
  "kernelspec": {
   "display_name": "Python 3",
   "language": "python",
   "name": "python3"
  },
  "language_info": {
   "codemirror_mode": {
    "name": "ipython",
    "version": 3
   },
   "file_extension": ".py",
   "mimetype": "text/x-python",
   "name": "python",
   "nbconvert_exporter": "python",
   "pygments_lexer": "ipython3",
   "version": "3.8.5"
  }
 },
 "nbformat": 4,
 "nbformat_minor": 4
}
