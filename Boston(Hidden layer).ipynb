{
 "cells": [
  {
   "cell_type": "markdown",
   "metadata": {},
   "source": [
    "#### (2020-12-26) In this time we use hidden layer to decrease our loss"
   ]
  },
  {
   "cell_type": "code",
   "execution_count": 7,
   "metadata": {},
   "outputs": [
    {
     "name": "stdout",
     "output_type": "stream",
     "text": [
      "(506, 13) (506, 1)\n",
      "Model: \"functional_3\"\n",
      "_________________________________________________________________\n",
      "Layer (type)                 Output Shape              Param #   \n",
      "=================================================================\n",
      "input_2 (InputLayer)         [(None, 13)]              0         \n",
      "_________________________________________________________________\n",
      "dense_2 (Dense)              (None, 10)                140       \n",
      "_________________________________________________________________\n",
      "dense_3 (Dense)              (None, 1)                 11        \n",
      "=================================================================\n",
      "Total params: 151\n",
      "Trainable params: 151\n",
      "Non-trainable params: 0\n",
      "_________________________________________________________________\n",
      "[[31.24296 ]\n",
      " [23.910027]\n",
      " [30.441437]\n",
      " [34.14702 ]\n",
      " [32.85857 ]]\n",
      "   medv\n",
      "0  24.0\n",
      "1  21.6\n",
      "2  34.7\n",
      "3  33.4\n",
      "4  36.2\n"
     ]
    }
   ],
   "source": [
    "# Using library\n",
    "import tensorflow as tf\n",
    "import pandas as pd\n",
    "\n",
    "# data prepare\n",
    "location = 'C:/Users/woner/Desktop/coding/machine_learning/(me)life_coding_Tensorflow101/csv/boston.csv'\n",
    "boston = pd.read_csv(location)\n",
    "\n",
    "# variable indicate\n",
    "independent = boston[['crim', 'zn', 'indus', 'chas', 'nox', 'rm', 'age', 'dis', 'rad', 'tax',\n",
    "       'ptratio', 'b', 'lstat']]\n",
    "dependent = boston[['medv']]\n",
    "print(independent.shape , dependent.shape)\n",
    "\n",
    "# create sturcture of model\n",
    "X = tf.keras.layers.Input(shape=[13])\n",
    "H = tf.keras.layers.Dense(10, activation='swish')(X)\n",
    "Y = tf.keras.layers.Dense(1)(H)\n",
    "model = tf.keras.models.Model(X,Y)\n",
    "model.compile(loss='mse')\n",
    "\n",
    "# model.summary()\n",
    "\n",
    "# Fit of model\n",
    "model.fit(independent, dependent,epochs=1000,verbose = 0)\n",
    "\n",
    "# use model\n",
    "print(model.predict(independent[:5]))\n",
    "print(dependent[:5])\n",
    "\n",
    "\n",
    "\n",
    "\n",
    "\n",
    "\n"
   ]
  },
  {
   "cell_type": "code",
   "execution_count": null,
   "metadata": {},
   "outputs": [],
   "source": []
  }
 ],
 "metadata": {
  "kernelspec": {
   "display_name": "Python 3",
   "language": "python",
   "name": "python3"
  },
  "language_info": {
   "codemirror_mode": {
    "name": "ipython",
    "version": 3
   },
   "file_extension": ".py",
   "mimetype": "text/x-python",
   "name": "python",
   "nbconvert_exporter": "python",
   "pygments_lexer": "ipython3",
   "version": "3.8.5"
  }
 },
 "nbformat": 4,
 "nbformat_minor": 4
}
