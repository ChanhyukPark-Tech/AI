{
 "cells": [
  {
   "cell_type": "code",
   "execution_count": 1,
   "id": "22d3a3e9",
   "metadata": {},
   "outputs": [],
   "source": [
    "import torch\n",
    "import torchvision\n",
    "from torchvision import datasets\n",
    "from torchvision import transforms\n",
    "import torch.nn as nn\n",
    "import torch.optim as optim\n",
    "import matplotlib.pyplot as plt\n",
    "import numpy as np"
   ]
  },
  {
   "cell_type": "markdown",
   "id": "68b7cc52",
   "metadata": {},
   "source": [
    "# 데이터를 다운받아줍니다."
   ]
  },
  {
   "cell_type": "code",
   "execution_count": 2,
   "id": "553066d2",
   "metadata": {},
   "outputs": [],
   "source": [
    "batch_size=12\n",
    "\n",
    "train_data=datasets.MNIST('D:\\datasets',train=True, download=True, transform=transforms.ToTensor())\n",
    "test_data=datasets.MNIST('D:\\datasets',train=True, download=True, transform=transforms.ToTensor())\n",
    "\n",
    "train_loader=torch.utils.data.DataLoader(train_data, batch_size=batch_size, shuffle=True)\n",
    "test_loader=torch.utils.data.DataLoader(test_data,batch_size=batch_size)\n"
   ]
  },
  {
   "cell_type": "markdown",
   "id": "5f36f983",
   "metadata": {},
   "source": [
    "# Layer 5"
   ]
  },
  {
   "cell_type": "code",
   "execution_count": 3,
   "id": "cd9c4e3b",
   "metadata": {},
   "outputs": [
    {
     "name": "stdout",
     "output_type": "stream",
     "text": [
      "ModuleList(\n",
      "  (0): Linear(in_features=784, out_features=512, bias=True)\n",
      "  (1): Linear(in_features=512, out_features=256, bias=True)\n",
      "  (2): Linear(in_features=256, out_features=128, bias=True)\n",
      "  (3): Linear(in_features=128, out_features=64, bias=True)\n",
      "  (4): Linear(in_features=64, out_features=10, bias=True)\n",
      ")\n"
     ]
    }
   ],
   "source": [
    "class Module_Layer_5(nn.Module):\n",
    "    def __init__(self,hidden_units=[512,256,128,64]):\n",
    "        super().__init__()\n",
    "        \n",
    "        self.in_dim=28*28\n",
    "        self.out_dim=10\n",
    "        # Using ModuleList for indicate submodule \n",
    "        self.l_layers=nn.ModuleList([nn.Linear(self.in_dim,512)])\n",
    "        \n",
    "        # Insert our submodule to ModuleList not just python list\n",
    "        \n",
    "        for i in range(len(hidden_units)-1):\n",
    "            self.l_layers.append(nn.Linear(hidden_units[i],hidden_units[i+1]))\n",
    "            \n",
    "        # append last submodule\n",
    "        self.l_layers.append(nn.Linear(hidden_units[-1],self.out_dim))\n",
    "        \n",
    "        # activation function\n",
    "        self.relu=nn.ReLU()\n",
    "        self.log_softmax=nn.LogSoftmax()\n",
    "        \n",
    "\n",
    "\n",
    "    def forward(self,x):\n",
    "        # flatten \n",
    "        a1=self.relu(self.l_layers[0](x.view(-1, self.in_dim)))\n",
    "        a2=self.relu(self.l_layers[1](a1))\n",
    "        a3=self.relu(self.l_layers[2](a2))\n",
    "        a4=self.relu(self.l_layers[3](a3))\n",
    "        logit=self.l_layers[4](a4)\n",
    "        return logit\n",
    "            \n",
    "model_layer_5=Module_Layer_5()\n",
    "print(model_layer_5.l_layers)"
   ]
  },
  {
   "cell_type": "markdown",
   "id": "79b77943",
   "metadata": {},
   "source": [
    "# Layer 4"
   ]
  },
  {
   "cell_type": "code",
   "execution_count": 4,
   "id": "678957c8",
   "metadata": {},
   "outputs": [
    {
     "name": "stdout",
     "output_type": "stream",
     "text": [
      "ModuleList(\n",
      "  (0): Linear(in_features=784, out_features=512, bias=True)\n",
      "  (1): Linear(in_features=512, out_features=256, bias=True)\n",
      "  (2): Linear(in_features=256, out_features=128, bias=True)\n",
      "  (3): Linear(in_features=128, out_features=10, bias=True)\n",
      ")\n"
     ]
    }
   ],
   "source": [
    "class Module_Layer_4(nn.Module):\n",
    "    def __init__(self,hidden_units=[512,256,128]):\n",
    "        super().__init__()\n",
    "        \n",
    "        self.in_dim=28*28\n",
    "        self.out_dim=10\n",
    "        # Using ModuleList for indicate submodule \n",
    "        self.l_layers=nn.ModuleList([nn.Linear(self.in_dim,512)])\n",
    "        \n",
    "        # Insert our submodule to ModuleList not just python list\n",
    "        \n",
    "        for i in range(len(hidden_units)-1):\n",
    "            self.l_layers.append(nn.Linear(hidden_units[i],hidden_units[i+1]))\n",
    "            \n",
    "        # append last submodule\n",
    "        self.l_layers.append(nn.Linear(hidden_units[-1],self.out_dim))\n",
    "        \n",
    "        # activation function\n",
    "        self.relu=nn.ReLU()\n",
    "        self.log_softmax=nn.LogSoftmax()\n",
    "        \n",
    "\n",
    "\n",
    "    def forward(self,x):\n",
    "        # flatten \n",
    "        a1=self.relu(self.l_layers[0](x.view(-1, self.in_dim)))\n",
    "        a2=self.relu(self.l_layers[1](a1))\n",
    "        a3=self.relu(self.l_layers[2](a2))\n",
    "        logit=self.l_layers[3](a3)\n",
    "        return logit\n",
    "            \n",
    "model_layer_4=Module_Layer_4()\n",
    "print(model_layer_4.l_layers)"
   ]
  },
  {
   "cell_type": "markdown",
   "id": "13e0f05a",
   "metadata": {},
   "source": [
    "# Layer 3"
   ]
  },
  {
   "cell_type": "code",
   "execution_count": 5,
   "id": "3d4cd475",
   "metadata": {},
   "outputs": [
    {
     "name": "stdout",
     "output_type": "stream",
     "text": [
      "ModuleList(\n",
      "  (0): Linear(in_features=784, out_features=512, bias=True)\n",
      "  (1): Linear(in_features=512, out_features=256, bias=True)\n",
      "  (2): Linear(in_features=256, out_features=10, bias=True)\n",
      ")\n"
     ]
    }
   ],
   "source": [
    "class Module_Layer_3(nn.Module):\n",
    "    def __init__(self,hidden_units=[512,256]):\n",
    "        super().__init__()\n",
    "        \n",
    "        self.in_dim=28*28\n",
    "        self.out_dim=10\n",
    "        # Using ModuleList for indicate submodule \n",
    "        self.l_layers=nn.ModuleList([nn.Linear(self.in_dim,512)])\n",
    "        \n",
    "        # Insert our submodule to ModuleList not just python list\n",
    "        \n",
    "        for i in range(len(hidden_units)-1):\n",
    "            self.l_layers.append(nn.Linear(hidden_units[i],hidden_units[i+1]))\n",
    "            \n",
    "        # append last submodule\n",
    "        self.l_layers.append(nn.Linear(hidden_units[-1],self.out_dim))\n",
    "        \n",
    "        # activation function\n",
    "        self.relu=nn.ReLU()\n",
    "        self.log_softmax=nn.LogSoftmax()\n",
    "        \n",
    "\n",
    "\n",
    "    def forward(self,x):\n",
    "        # flatten \n",
    "        a1=self.relu(self.l_layers[0](x.view(-1, self.in_dim)))\n",
    "        a2=self.relu(self.l_layers[1](a1))\n",
    "        logit=self.l_layers[2](a2)\n",
    "        return logit\n",
    "            \n",
    "model_layer_3=Module_Layer_3()\n",
    "print(model_layer_3.l_layers)"
   ]
  },
  {
   "cell_type": "markdown",
   "id": "649dfaf2",
   "metadata": {},
   "source": [
    "# Layer 2"
   ]
  },
  {
   "cell_type": "code",
   "execution_count": 6,
   "id": "5fc3260a",
   "metadata": {},
   "outputs": [
    {
     "name": "stdout",
     "output_type": "stream",
     "text": [
      "ModuleList(\n",
      "  (0): Linear(in_features=784, out_features=512, bias=True)\n",
      "  (1): Linear(in_features=512, out_features=10, bias=True)\n",
      ")\n"
     ]
    }
   ],
   "source": [
    "class Module_Layer_2(nn.Module):\n",
    "    def __init__(self,hidden_units=[512]):\n",
    "        super().__init__()\n",
    "        \n",
    "        self.in_dim=28*28\n",
    "        self.out_dim=10\n",
    "        # Using ModuleList for indicate submodule \n",
    "        self.l_layers=nn.ModuleList([nn.Linear(self.in_dim,512)])\n",
    "        \n",
    "        # Insert our submodule to ModuleList not just python list\n",
    "        # not necessary actually\n",
    "        for i in range(len(hidden_units)-1):\n",
    "            print(i)\n",
    "            self.l_layers.append(nn.Linear(hidden_units[i],hidden_units[i+1]))\n",
    "            \n",
    "        # append last submodule\n",
    "        self.l_layers.append(nn.Linear(hidden_units[-1],self.out_dim))\n",
    "        \n",
    "        # activation function\n",
    "        self.relu=nn.ReLU()\n",
    "        self.log_softmax=nn.LogSoftmax()\n",
    "        \n",
    "\n",
    "\n",
    "    def forward(self,x):\n",
    "        # flatten \n",
    "        a1=self.relu(self.l_layers[0](x.view(-1, self.in_dim)))\n",
    "        logit=self.l_layers[1](a1)\n",
    "        return logit\n",
    "            \n",
    "model_layer_2=Module_Layer_2()\n",
    "print(model_layer_2.l_layers)"
   ]
  },
  {
   "cell_type": "markdown",
   "id": "ae8272e1",
   "metadata": {},
   "source": [
    "# Train 🏄‍♂️"
   ]
  },
  {
   "cell_type": "markdown",
   "id": "2c19da69",
   "metadata": {},
   "source": [
    "## Layer 5"
   ]
  },
  {
   "cell_type": "code",
   "execution_count": 7,
   "id": "c5cee00c",
   "metadata": {},
   "outputs": [
    {
     "name": "stdout",
     "output_type": "stream",
     "text": [
      "[1,  2000] loss: 2.178\n",
      "[1,  4000] loss: 0.759\n",
      "[2,  2000] loss: 0.323\n",
      "[2,  4000] loss: 0.232\n",
      "[3,  2000] loss: 0.160\n",
      "[3,  4000] loss: 0.148\n",
      "[4,  2000] loss: 0.108\n",
      "[4,  4000] loss: 0.107\n",
      "[5,  2000] loss: 0.079\n",
      "[5,  4000] loss: 0.086\n",
      "[6,  2000] loss: 0.068\n",
      "[6,  4000] loss: 0.062\n",
      "[7,  2000] loss: 0.048\n",
      "[7,  4000] loss: 0.055\n",
      "[8,  2000] loss: 0.037\n",
      "[8,  4000] loss: 0.044\n",
      "[9,  2000] loss: 0.031\n",
      "[9,  4000] loss: 0.033\n",
      "[10,  2000] loss: 0.026\n",
      "[10,  4000] loss: 0.026\n",
      "finish training\n"
     ]
    }
   ],
   "source": [
    "# plotting preparation\n",
    "# x-axis\n",
    "layer=[]\n",
    "# y-axis\n",
    "accuracy=[]\n",
    "\n",
    "# includes softmax !\n",
    "\n",
    "criterion=nn.CrossEntropyLoss()\n",
    "\n",
    "\n",
    "optimizer=optim.SGD(model_layer_5.parameters(),lr=0.01)\n",
    "\n",
    "\n",
    "for epoch in range(10):\n",
    "    running_loss=0.0\n",
    "    # traning \n",
    "    for i, data in enumerate(train_loader,0):\n",
    "        inputs,labels=data\n",
    "       \n",
    "        # set cummulated grad to zero ! \n",
    "        optimizer.zero_grad()\n",
    "        # acutally forward \n",
    "        outputs=model_layer_5(inputs)\n",
    "        # loss 비교\n",
    "        loss=criterion(outputs,labels)\n",
    "        # compute\n",
    "        loss.backward()\n",
    "        # update\n",
    "        optimizer.step()\n",
    "        \n",
    "        running_loss += loss.item()\n",
    "        if (i+1) % 2000 == 0:\n",
    "            print('[%d, %5d] loss: %.3f'%(epoch+1, i+1, running_loss/2000))\n",
    "            running_loss=0.0\n",
    "            \n",
    "print('finish training')\n",
    "\n",
    "n_predict=0\n",
    "n_correct=0\n",
    "\n",
    "# test\n",
    "for data in test_loader:\n",
    "    inputs, labels = data\n",
    "    # forward\n",
    "    outputs = model_layer_5(inputs)\n",
    "    _,predicted=torch.max(outputs,1)\n",
    "    \n",
    "    n_predict += len(predicted)\n",
    "    n_correct += (labels == predicted).sum()\n",
    "\n",
    "# x-axis\n",
    "layer.append(len(model_layer_5.l_layers))\n",
    "# y-axis\n",
    "accuracy.append(round(int(n_correct)/int(n_predict),4))"
   ]
  },
  {
   "cell_type": "markdown",
   "id": "f7483fd7",
   "metadata": {},
   "source": [
    "## Layer 4"
   ]
  },
  {
   "cell_type": "code",
   "execution_count": 8,
   "id": "844c9c2e",
   "metadata": {},
   "outputs": [
    {
     "name": "stdout",
     "output_type": "stream",
     "text": [
      "[1,  2000] loss: 1.493\n",
      "[1,  4000] loss: 0.421\n",
      "[2,  2000] loss: 0.277\n",
      "[2,  4000] loss: 0.226\n",
      "[3,  2000] loss: 0.173\n",
      "[3,  4000] loss: 0.148\n",
      "[4,  2000] loss: 0.124\n",
      "[4,  4000] loss: 0.110\n",
      "[5,  2000] loss: 0.095\n",
      "[5,  4000] loss: 0.085\n",
      "[6,  2000] loss: 0.072\n",
      "[6,  4000] loss: 0.073\n",
      "[7,  2000] loss: 0.058\n",
      "[7,  4000] loss: 0.060\n",
      "[8,  2000] loss: 0.051\n",
      "[8,  4000] loss: 0.047\n",
      "[9,  2000] loss: 0.038\n",
      "[9,  4000] loss: 0.043\n",
      "[10,  2000] loss: 0.032\n",
      "[10,  4000] loss: 0.036\n",
      "finish training\n"
     ]
    }
   ],
   "source": [
    "# includes softmax !\n",
    "criterion=nn.CrossEntropyLoss()\n",
    "\n",
    "optimizer=optim.SGD(model_layer_4.parameters(),lr=0.01)\n",
    "\n",
    "\n",
    "for epoch in range(10):\n",
    "    running_loss=0.0\n",
    "    # traning \n",
    "    for i, data in enumerate(train_loader,0):\n",
    "        inputs,labels=data\n",
    "       \n",
    "        # set cummulated grad to zero ! \n",
    "        optimizer.zero_grad()\n",
    "        # acutally forward \n",
    "        outputs=model_layer_4(inputs)\n",
    "        # loss 비교\n",
    "        loss=criterion(outputs,labels)\n",
    "        # compute\n",
    "        loss.backward()\n",
    "        # update\n",
    "        optimizer.step()\n",
    "        \n",
    "        running_loss += loss.item()\n",
    "        if (i+1) % 2000 == 0:\n",
    "            print('[%d, %5d] loss: %.3f'%(epoch+1, i+1, running_loss/2000))\n",
    "            running_loss=0.0\n",
    "            \n",
    "print('finish training')\n",
    "\n",
    "n_predict=0\n",
    "n_correct=0\n",
    "\n",
    "# test\n",
    "for data in test_loader:\n",
    "    inputs, labels = data\n",
    "    # forward\n",
    "    outputs = model_layer_4(inputs)\n",
    "    _,predicted=torch.max(outputs,1)\n",
    "    \n",
    "    n_predict += len(predicted)\n",
    "    n_correct += (labels == predicted).sum()\n",
    "\n",
    "# x-axis\n",
    "layer.append(len(model_layer_4.l_layers))\n",
    "# y-axis\n",
    "accuracy.append(round(int(n_correct)/int(n_predict),4))"
   ]
  },
  {
   "cell_type": "markdown",
   "id": "3ab6fe81",
   "metadata": {},
   "source": [
    "## layer 3"
   ]
  },
  {
   "cell_type": "code",
   "execution_count": 9,
   "id": "8c4eb01e",
   "metadata": {},
   "outputs": [
    {
     "name": "stdout",
     "output_type": "stream",
     "text": [
      "[1,  2000] loss: 1.051\n",
      "[1,  4000] loss: 0.366\n",
      "[2,  2000] loss: 0.274\n",
      "[2,  4000] loss: 0.237\n",
      "[3,  2000] loss: 0.191\n",
      "[3,  4000] loss: 0.177\n",
      "[4,  2000] loss: 0.148\n",
      "[4,  4000] loss: 0.140\n",
      "[5,  2000] loss: 0.124\n",
      "[5,  4000] loss: 0.112\n",
      "[6,  2000] loss: 0.088\n",
      "[6,  4000] loss: 0.100\n",
      "[7,  2000] loss: 0.080\n",
      "[7,  4000] loss: 0.079\n",
      "[8,  2000] loss: 0.068\n",
      "[8,  4000] loss: 0.069\n",
      "[9,  2000] loss: 0.057\n",
      "[9,  4000] loss: 0.059\n",
      "[10,  2000] loss: 0.050\n",
      "[10,  4000] loss: 0.052\n",
      "finish training\n"
     ]
    }
   ],
   "source": [
    "# includes softmax !\n",
    "criterion=nn.CrossEntropyLoss()\n",
    "\n",
    "optimizer=optim.SGD(model_layer_3.parameters(),lr=0.01)\n",
    "\n",
    "\n",
    "for epoch in range(10):\n",
    "    running_loss=0.0\n",
    "    # traning \n",
    "    for i, data in enumerate(train_loader,0):\n",
    "        inputs,labels=data\n",
    "       \n",
    "        # set cummulated grad to zero ! \n",
    "        optimizer.zero_grad()\n",
    "        # acutally forward \n",
    "        outputs=model_layer_3(inputs)\n",
    "        # loss 비교\n",
    "        loss=criterion(outputs,labels)\n",
    "        # compute\n",
    "        loss.backward()\n",
    "        # update\n",
    "        optimizer.step()\n",
    "        \n",
    "        running_loss += loss.item()\n",
    "        if (i+1) % 2000 == 0:\n",
    "            print('[%d, %5d] loss: %.3f'%(epoch+1, i+1, running_loss/2000))\n",
    "            running_loss=0.0\n",
    "            \n",
    "print('finish training')\n",
    "\n",
    "n_predict=0\n",
    "n_correct=0\n",
    "\n",
    "# test\n",
    "for data in test_loader:\n",
    "    inputs, labels = data\n",
    "    # forward\n",
    "    outputs = model_layer_3(inputs)\n",
    "    _,predicted=torch.max(outputs,1)\n",
    "    \n",
    "    n_predict += len(predicted)\n",
    "    n_correct += (labels == predicted).sum()\n",
    "\n",
    "# x-axis\n",
    "layer.append(len(model_layer_3.l_layers))\n",
    "# y-axis\n",
    "accuracy.append(round(int(n_correct)/int(n_predict),4))"
   ]
  },
  {
   "cell_type": "markdown",
   "id": "d053cea8",
   "metadata": {},
   "source": [
    "## Layer 2"
   ]
  },
  {
   "cell_type": "code",
   "execution_count": 10,
   "id": "fa0d707b",
   "metadata": {},
   "outputs": [
    {
     "name": "stdout",
     "output_type": "stream",
     "text": [
      "[1,  2000] loss: 0.811\n",
      "[1,  4000] loss: 0.361\n",
      "[2,  2000] loss: 0.295\n",
      "[2,  4000] loss: 0.268\n",
      "[3,  2000] loss: 0.230\n",
      "[3,  4000] loss: 0.225\n",
      "[4,  2000] loss: 0.195\n",
      "[4,  4000] loss: 0.184\n",
      "[5,  2000] loss: 0.166\n",
      "[5,  4000] loss: 0.155\n",
      "[6,  2000] loss: 0.142\n",
      "[6,  4000] loss: 0.136\n",
      "[7,  2000] loss: 0.124\n",
      "[7,  4000] loss: 0.122\n",
      "[8,  2000] loss: 0.112\n",
      "[8,  4000] loss: 0.108\n",
      "[9,  2000] loss: 0.097\n",
      "[9,  4000] loss: 0.099\n",
      "[10,  2000] loss: 0.095\n",
      "[10,  4000] loss: 0.089\n",
      "finish training\n"
     ]
    }
   ],
   "source": [
    "# includes softmax !\n",
    "criterion=nn.CrossEntropyLoss()\n",
    "\n",
    "optimizer=optim.SGD(model_layer_2.parameters(),lr=0.01)\n",
    "\n",
    "\n",
    "for epoch in range(10):\n",
    "    running_loss=0.0\n",
    "    # traning \n",
    "    for i, data in enumerate(train_loader,0):\n",
    "        inputs,labels=data\n",
    "       \n",
    "        # set cummulated grad to zero ! \n",
    "        optimizer.zero_grad()\n",
    "        # acutally forward \n",
    "        outputs=model_layer_2(inputs)\n",
    "        # loss 비교\n",
    "        loss=criterion(outputs,labels)\n",
    "        # compute\n",
    "        loss.backward()\n",
    "        # update\n",
    "        optimizer.step()\n",
    "        \n",
    "        running_loss += loss.item()\n",
    "        if (i+1) % 2000 == 0:\n",
    "            print('[%d, %5d] loss: %.3f'%(epoch+1, i+1, running_loss/2000))\n",
    "            running_loss=0.0\n",
    "            \n",
    "print('finish training')\n",
    "\n",
    "n_predict=0\n",
    "n_correct=0\n",
    "\n",
    "# test\n",
    "for data in test_loader:\n",
    "    inputs, labels = data\n",
    "    # forward\n",
    "    outputs = model_layer_2(inputs)\n",
    "    _,predicted=torch.max(outputs,1)\n",
    "    \n",
    "    n_predict += len(predicted)\n",
    "    n_correct += (labels == predicted).sum()\n",
    "\n",
    "# x-axis\n",
    "layer.append(len(model_layer_2.l_layers))\n",
    "# y-axis\n",
    "accuracy.append(round(int(n_correct)/int(n_predict),4))"
   ]
  },
  {
   "cell_type": "code",
   "execution_count": 11,
   "id": "bbc47586",
   "metadata": {},
   "outputs": [
    {
     "data": {
      "image/png": "[encoded data removed]",
      "text/plain": [
       "<Figure size 432x288 with 1 Axes>"
      ]
     },
     "metadata": {
      "needs_background": "light"
     },
     "output_type": "display_data"
    },
    {
     "name": "stdout",
     "output_type": "stream",
     "text": [
      "GroundTruth\n",
      "     5    0    4    1    9    2    1    3    1    4    3    5\n",
      "Prediction\n",
      "     5    0    4    1    9    2    1    3    1    4    3    5\n"
     ]
    }
   ],
   "source": [
    "def imshow(img):\n",
    "    npimg=img.numpy()\n",
    "    plt.imshow(np.transpose(npimg,(1,2,0)))\n",
    "    plt.show()\n",
    "    \n",
    "dataiter=iter(test_loader)\n",
    "images, labels=dataiter.next()\n",
    "\n",
    "imshow(torchvision.utils.make_grid(images,nrow=batch_size))\n",
    "print('GroundTruth')\n",
    "print(\"   \"+'  '.join('%3s'%label.item() for label in labels))\n",
    "\n",
    "# model 5 로 예측해보기\n",
    "outputs=model_layer_5(images)\n",
    "_, predicted=torch.max(outputs,1)\n",
    "print(\"Prediction\")\n",
    "print(\"   \"+'  '.join('%3s'%label.item() for label in predicted))"
   ]
  },
  {
   "cell_type": "code",
   "execution_count": 12,
   "id": "c67d35dc",
   "metadata": {},
   "outputs": [
    {
     "data": {
      "image/png": "[encoded data removed]",
      "text/plain": [
       "<Figure size 432x288 with 1 Axes>"
      ]
     },
     "metadata": {
      "needs_background": "light"
     },
     "output_type": "display_data"
    }
   ],
   "source": [
    "import matplotlib.pyplot as plt\n",
    "plt.plot(layer,accuracy)\n",
    "plt.xlabel('layer')\n",
    "plt.ylabel('accuracy')\n",
    "plt.show()\n"
   ]
  },
  {
   "cell_type": "markdown",
   "id": "d4289173",
   "metadata": {},
   "source": [
    "## Summary"
   ]
  },
  {
   "cell_type": "markdown",
   "id": "b2fc8b01",
   "metadata": {},
   "source": [
    "Layer 가  증가할수록 정확도가 상승하는 결과를 얻었습니다.\n",
    "\n",
    "감사합니다. 2016005387 박찬혁입니다.\n"
   ]
  }
 ],
 "metadata": {
  "kernelspec": {
   "display_name": "Python 3 (ipykernel)",
   "language": "python",
   "name": "python3"
  },
  "language_info": {
   "codemirror_mode": {
    "name": "ipython",
    "version": 3
   },
   "file_extension": ".py",
   "mimetype": "text/x-python",
   "name": "python",
   "nbconvert_exporter": "python",
   "pygments_lexer": "ipython3",
   "version": "3.9.10"
  }
 },
 "nbformat": 4,
 "nbformat_minor": 5
}
