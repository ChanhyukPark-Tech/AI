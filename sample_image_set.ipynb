{
  "nbformat": 4,
  "nbformat_minor": 0,
  "metadata": {
    "colab": {
      "name": "sample_image_set",
      "provenance": [],
      "collapsed_sections": [],
      "authorship_tag": "ABX9TyM/sil9REf/Zon9LWo0B0a7",
      "include_colab_link": true
    },
    "kernelspec": {
      "name": "python3",
      "display_name": "Python 3"
    }
  },
  "cells": [
    {
      "cell_type": "markdown",
      "metadata": {
        "id": "view-in-github",
        "colab_type": "text"
      },
      "source": [
        "<a href=\"https://colab.research.google.com/github/ChanhyukPark-Tech/Machinelearing-with-tensorflow101/blob/master/sample_image_set.ipynb\" target=\"_parent\"><img src=\"https://colab.research.google.com/assets/colab-badge.svg\" alt=\"Open In Colab\"/></a>"
      ]
    },
    {
      "cell_type": "code",
      "metadata": {
        "colab": {
          "base_uri": "https://localhost:8080/"
        },
        "id": "jyemzO6KmPH1",
        "outputId": "cb0c9a11-502b-4931-b59e-0a3841a35806"
      },
      "source": [
        "import tensorflow as tf\r\n",
        "\r\n",
        "(mnist_x,mnist_y), _ = tf.keras.datasets.mnist.load_data()\r\n",
        "print(mnist_x.shape, mnist_y.shape)\r\n",
        "\r\n",
        "(cifar_x, cifar_y), _ = tf.keras.datasets.cifar10.load_data()\r\n",
        "print(cifar_x.shape, cifar_y.shape)\r\n"
      ],
      "execution_count": 3,
      "outputs": [
        {
          "output_type": "stream",
          "text": [
            "(60000, 28, 28) (60000,)\n",
            "(50000, 32, 32, 3) (50000, 1)\n"
          ],
          "name": "stdout"
        }
      ]
    }
  ]
}